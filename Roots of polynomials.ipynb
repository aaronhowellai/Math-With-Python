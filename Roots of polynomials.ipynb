{
 "cells": [
  {
   "cell_type": "markdown",
   "id": "0598f028-06af-47ad-9efd-a8e02f430156",
   "metadata": {},
   "source": [
    "# Roots of Polynomials\n",
    "(Algebra 2)"
   ]
  },
  {
   "cell_type": "code",
   "execution_count": 2,
   "id": "9045fb19-b6d8-47ae-a32e-8b846ea024ad",
   "metadata": {
    "jupyter": {
     "source_hidden": true
    },
    "tags": []
   },
   "outputs": [],
   "source": [
    "import numpy as np\n",
    "import sympy as sym\n",
    "import matplotlib.pyplot as plt\n",
    "from IPython.display import Math,display"
   ]
  },
  {
   "cell_type": "code",
   "execution_count": 8,
   "id": "679c621c-0ab1-4455-87f8-726928c004bf",
   "metadata": {
    "tags": []
   },
   "outputs": [
    {
     "data": {
      "text/latex": [
       "$\\displaystyle a_0+a_1x+a_2x^2+...+a_nx^n$"
      ],
      "text/plain": [
       "<IPython.core.display.Math object>"
      ]
     },
     "metadata": {},
     "output_type": "display_data"
    }
   ],
   "source": [
    "display(Math('a_0+a_1x+a_2x^2+...+a_nx^n'))"
   ]
  },
  {
   "cell_type": "markdown",
   "id": "1408dbcf-1a85-4bfe-a0e8-ed4c3e4e0a05",
   "metadata": {
    "tags": []
   },
   "source": [
    "**a1,a2,a3,...,an** = coeffecients"
   ]
  },
  {
   "cell_type": "markdown",
   "id": "25a3a2d0-aaba-4822-82b4-6af01fee3ed9",
   "metadata": {},
   "source": [
    "**x** = variable, indeterminate"
   ]
  },
  {
   "cell_type": "markdown",
   "id": "c0a3cb10-0c92-4763-9645-5864bf342373",
   "metadata": {},
   "source": [
    "### Computer Rounding Error"
   ]
  },
  {
   "cell_type": "code",
   "execution_count": 18,
   "id": "e049bb95-dfba-47c6-ae9d-17a1dce08b23",
   "metadata": {
    "tags": []
   },
   "outputs": [
    {
     "name": "stdout",
     "output_type": "stream",
     "text": [
      "[-1.          0.33333333]\n"
     ]
    }
   ],
   "source": [
    "from sympy.abc import x\n",
    "\n",
    "# p = 3*x**2 + 2*x - 1 = 0\n",
    "coeffs = [3,2,-1] # descending order\n",
    "roots = np.roots(coeffs)\n",
    "\n",
    "print(roots)"
   ]
  },
  {
   "cell_type": "code",
   "execution_count": 30,
   "id": "9ab8bb0f-ceb5-4bcb-9a46-d3250961aa16",
   "metadata": {
    "tags": []
   },
   "outputs": [
    {
     "data": {
      "text/latex": [
       "$\\displaystyle \\text{When } x=-1, \\quad 3 x^{2} + 2 x - 1 = 0$"
      ],
      "text/plain": [
       "<IPython.core.display.Math object>"
      ]
     },
     "metadata": {},
     "output_type": "display_data"
    },
    {
     "data": {
      "text/latex": [
       "$\\displaystyle \\text{When } x=0.333333, \\quad 3 x^{2} + 2 x - 1 = -5.55112e-17$"
      ],
      "text/plain": [
       "<IPython.core.display.Math object>"
      ]
     },
     "metadata": {},
     "output_type": "display_data"
    }
   ],
   "source": [
    "pn = 3*x**2 + 2*x - 1\n",
    "\n",
    "for i in roots:\n",
    "    display(Math('\\\\text{When } x=%g, \\\\quad %s = %g' %(i,sym.latex(pn),pn.subs(x,i)) ))"
   ]
  },
  {
   "cell_type": "markdown",
   "id": "239c5d63-dce4-47b1-8a69-efd61bd9806c",
   "metadata": {},
   "source": [
    "-----"
   ]
  },
  {
   "cell_type": "markdown",
   "id": "ee371a86-d895-4707-ad26-61e503b2e412",
   "metadata": {
    "tags": []
   },
   "source": [
    "### Exercise"
   ]
  },
  {
   "cell_type": "markdown",
   "id": "7f2fdd8b-1e72-485e-905f-1ad4b28ac93f",
   "metadata": {},
   "source": [
    "The fundamental thereom of algebra"
   ]
  },
  {
   "cell_type": "code",
   "execution_count": 40,
   "id": "55c34c1e-3e5c-4e63-bba5-ff066d2441d8",
   "metadata": {
    "tags": []
   },
   "outputs": [
    {
     "name": "stdout",
     "output_type": "stream",
     "text": [
      "A degree 0 polynomial has 0 roots\n",
      "A degree 1 polynomial has 1 roots\n",
      "A degree 2 polynomial has 2 roots\n",
      "A degree 3 polynomial has 3 roots\n",
      "A degree 4 polynomial has 4 roots\n",
      "A degree 5 polynomial has 5 roots\n",
      "A degree 6 polynomial has 6 roots\n",
      "A degree 7 polynomial has 7 roots\n",
      "A degree 8 polynomial has 8 roots\n",
      "A degree 9 polynomial has 9 roots\n"
     ]
    }
   ],
   "source": [
    "for i in range(1,11):\n",
    "    coeffs = np.arange(1,i+1)\n",
    "    print('A degree %s polynomial has %s roots' %(len(coeffs)-1,len(np.roots(coeffs))))"
   ]
  }
 ],
 "metadata": {
  "kernelspec": {
   "display_name": "Python 3 (ipykernel)",
   "language": "python",
   "name": "python3"
  },
  "language_info": {
   "codemirror_mode": {
    "name": "ipython",
    "version": 3
   },
   "file_extension": ".py",
   "mimetype": "text/x-python",
   "name": "python",
   "nbconvert_exporter": "python",
   "pygments_lexer": "ipython3",
   "version": "3.11.5"
  }
 },
 "nbformat": 4,
 "nbformat_minor": 5
}
