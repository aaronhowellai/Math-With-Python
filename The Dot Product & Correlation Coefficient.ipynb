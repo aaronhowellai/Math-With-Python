{
 "cells": [
  {
   "cell_type": "markdown",
   "id": "f4b8a6fe-9967-4145-bdb5-d66b141c8741",
   "metadata": {},
   "source": [
    "# The Dot Product"
   ]
  },
  {
   "cell_type": "code",
   "execution_count": 21,
   "id": "c22cb5a8-3b39-41e6-91f1-a9fedf650dc9",
   "metadata": {
    "tags": []
   },
   "outputs": [],
   "source": [
    "import numpy as np \n",
    "import sympy as sym\n",
    "import matplotlib.pyplot as plt\n",
    "from IPython.display import Math,display"
   ]
  },
  {
   "cell_type": "markdown",
   "id": "0383987d-6b91-42b4-8657-25712588c6b9",
   "metadata": {},
   "source": [
   
   ]
  },
  {
   "cell_type": "markdown",
   "id": "cce528e9-93f4-422c-a288-b78a0ab3b082",
   "metadata": {},
   "source": [
    "----"
   ]
  },
  {
   "cell_type": "markdown",
   "id": "a5ee3638-f14d-4988-813f-16e999811352",
   "metadata": {},
   "source": [
    "    The most important operation in all of linear algebra! (And by default, in all of statistics, Machine Learning, .etc. )\n",
    "    \n",
    "    If computers are involved, you are almost guaranteed to see the dot product"
   ]
  },
  {
   "cell_type": "markdown",
   "id": "af37b480-b482-4f73-9861-b3fff3e6488d",
   "metadata": {},
   "source": [
    "# $ \\alpha = a \\cdot b = \\space  <a,b> \\space = a^Tb = \\Sigma_{i=1}^{n} \\space a_ib_i $"
   ]
  },
  {
   "cell_type": "code",
   "execution_count": 33,
   "id": "ea9e7b6e-c11e-4d62-8a84-966c41a6bc62",
   "metadata": {
    "tags": []
   },
   "outputs": [
    {
     "name": "stdout",
     "output_type": "stream",
     "text": [
      "True\n"
     ]
    }
   ],
   "source": [
    "v = np.arange(10,20,3)\n",
    "w = np.arange(5,15,3)\n",
    "\n",
    "dp1 = 0\n",
    "for i in range(0,len(v)):\n",
    "    dp1 += v[i]*w[i]\n",
    "    \n",
    "dp2 = np.sum(np.multiply(v,w))\n",
    "\n",
    "dp3 = np.dot(v,w)\n",
    "\n",
    "print(dp1==dp2==dp3)"
   ]
  },
  {
   "cell_type": "markdown",
   "id": "966c3c7d-fe63-4a18-8042-91ba7650fcec",
   "metadata": {},
   "source": [
    "### Exercise"
   ]
  },
  {
   "cell_type": "markdown",
   "id": "299352aa-9428-42f1-839e-2d948f340730",
   "metadata": {},
   "source": [
    "(Correct)"
   ]
  },
  {
   "cell_type": "markdown",
   "id": "5320827e-54ed-4ec3-b8b1-f814ee900803",
   "metadata": {},
   "source": [
    "    Write a function that:\n",
    "    Takes two vectors\n",
    "    Tests whether the dot product is valid between them\n",
    "    Returns the dot product or gives an error message"
   ]
  },
  {
   "cell_type": "markdown",
   "id": "07582524-d001-4ece-a6f1-9a6a3f7ae1c1",
   "metadata": {},
   "source": [
    "np.squeeze() for singletons"
   ]
  },
  {
   "cell_type": "code",
   "execution_count": 75,
   "id": "f72340d8-8f68-4c19-9bec-072629b7c171",
   "metadata": {
    "tags": []
   },
   "outputs": [],
   "source": [
    "# define the function\n",
    "\n",
    "def Dot():\n",
    "    \n",
    "    # vector 1\n",
    "    va = int(input('Please initialize range for vector 1 '))\n",
    "    vb = int(input('Please finalize range for vector 1 '))\n",
    "    v_steps = int(input('Please enter steps for vector 1 '))\n",
    "    \n",
    "    v = np.arange(va,vb,v_steps)\n",
    "    \n",
    "    # vector 2\n",
    "    wa = int(input('Please initialize range for vector 2 '))\n",
    "    wb = int(input('Please finalize range for vector 2 '))\n",
    "    w_steps = int(input('Please enter steps for vector 2 '))\n",
    "    \n",
    "    w = np.arange(wa,wb,w_steps)\n",
    "    \n",
    "    # test for element-wise equality\n",
    "    if len(v) != len(w):\n",
    "        raise ValueError('The lengths of the vectors do not match')\n",
    "    \n",
    "    # return the dot product\n",
    "    dp = np.dot(v,w)\n",
    "    \n",
    "    return display(Math('v^Tw = %g' %dp))"
   ]
  },
  {
   "cell_type": "code",
   "execution_count": 77,
   "id": "4f8d8175-11c4-4170-9c49-c13da5b868dd",
   "metadata": {
    "tags": []
   },
   "outputs": [
    {
     "name": "stdin",
     "output_type": "stream",
     "text": [
      "Please initialize range for vector 1  10\n",
      "Please finalize range for vector 1  20\n",
      "Please enter steps for vector 1  3\n",
      "Please initialize range for vector 2  5\n",
      "Please finalize range for vector 2  15\n",
      "Please enter steps for vector 2  3\n"
     ]
    },
    {
     "data": {
      "text/latex": [
       "$\\displaystyle v^Tw = 596$"
      ],
      "text/plain": [
       "<IPython.core.display.Math object>"
      ]
     },
     "metadata": {},
     "output_type": "display_data"
    }
   ],
   "source": [
    "Dot()"
   ]
  },
  {
   "cell_type": "markdown",
   "id": "b5c26d3d-0147-471d-91ce-d2baab75ec3f",
   "metadata": {},
   "source": [
    "-----"
   ]
  },
  {
   "cell_type": "markdown",
   "id": "d2b681aa-fa7d-465a-90dc-113b6f9d015c",
   "metadata": {},
   "source": [
    "# Dot Product Application: Correlation Coefficient"
   ]
  },
  {
   "cell_type": "markdown",
   "id": "724981b0-b95c-4e55-a6eb-5f314559320b",
   "metadata": {},
   "source": [
    "    An application of the dot product in statistics\n",
    "    More experience working with dot products and vectors in Python"
   ]
  },
  {
   "cell_type": "markdown",
   "id": "8d1059ef-a9ff-4b2b-9eb3-c735cc56fb08",
   "metadata": {},
   "source": [
    "    Determining whether there is a linear relationsip between two variables"
   ]
  },
  {
   "cell_type": "markdown",
   "id": "9d5bcb0b-bb1e-4188-83d5-6c3ac1494a83",
   "metadata": {},
   "source": [
    "## Correlation Coefficient / Pearson Correlation Coefficient"
   ]
  },
  {
   "cell_type": "markdown",
   "id": "85603a8e-ffe7-4385-af2f-c260d8a02ded",
   "metadata": {},
   "source": [
    "### Where $ \\overline{x,y} $ = Mean"
   ]
  },
  {
   "cell_type": "markdown",
   "id": "5ddb6155-f08a-4cd1-b5dc-2afec73abea2",
   "metadata": {},
   "source": [
    "# $ r_{xy} = \\frac{\\Sigma_{i=1}^{n}(x_i-\\overline{x})(y_i-\\overline{y})}{\\sqrt{\\Sigma_{i=1}^{n}(x_i-\\overline{x})^2} \\sqrt{\\Sigma_{i=1}^{n}(y_i-\\overline{y})^2}} $"
   ]
  },
  {
   "cell_type": "code",
   "execution_count": 128,
   "id": "defdd57c-4577-4e3a-adf7-f5ba64df8501",
   "metadata": {
    "tags": []
   },
   "outputs": [
    {
     "data": {
      "image/png": "[encoded data removed]",
      "text/plain": [
       "<Figure size 640x480 with 1 Axes>"
      ]
     },
     "metadata": {},
     "output_type": "display_data"
    }
   ],
   "source": [
    "# data \n",
    "aaron_courses = [4,5,8,2,9,9,1,3,7]\n",
    "self_actualization = [6,7,9,3,9,3,1,6,7]\n",
    "\n",
    "# mean-centre\n",
    "a = aaron_courses - np.mean(aaron_courses)\n",
    "s = self_actualization - np.mean(self_actualization)\n",
    "\n",
    "# compute correlation\n",
    "numer = np.dot(a,s)\n",
    "denom = np.sqrt(np.dot(a,a)) * np.sqrt(np.dot(s,s))\n",
    "r1 = numer/denom\n",
    "\n",
    "r2 = np.corrcoef(a,s)[1][0]\n",
    "\n",
    "# print(r1)\n",
    "# print(r2)\n",
    "\n",
    "plt.plot(aaron_courses,self_actualization,'ms',label='r=%g' %np.round(r1,2))\n",
    "\n",
    "plt.axis([0,10,0,10])\n",
    "plt.legend()\n",
    "plt.xlabel('No. of courses taken by Aaron')\n",
    "plt.ylabel('Self Actualization')\n",
    "plt.axis('square')\n",
    "plt.grid()\n",
    "plt.show()"
   ]
  }
 ],
 "metadata": {
  "kernelspec": {
   "display_name": "Python 3 (ipykernel)",
   "language": "python",
   "name": "python3"
  },
  "language_info": {
   "codemirror_mode": {
    "name": "ipython",
    "version": 3
   },
   "file_extension": ".py",
   "mimetype": "text/x-python",
   "name": "python",
   "nbconvert_exporter": "python",
   "pygments_lexer": "ipython3",
   "version": "3.11.5"
  }
 },
 "nbformat": 4,
 "nbformat_minor": 5
}
