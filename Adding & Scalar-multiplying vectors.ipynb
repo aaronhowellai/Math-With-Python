{
 "cells": [
  {
   "cell_type": "code",
   "execution_count": 1,
   "id": "5fc373cb-acdf-4897-ada0-bdc8217481bb",
   "metadata": {
    "tags": []
   },
   "outputs": [],
   "source": [
    "import numpy as np\n",
    "import sympy as sym\n",
    "import matplotlib.pyplot as plt\n",
    "from IPython.display import Math,display\n",
    "from mpl_toolkits.mplot3d import Axes3D"
   ]
  },
  {
   "cell_type": "markdown",
   "id": "524d971b-90bc-4571-a1ff-8c38d8c909c3",
   "metadata": {},
   "source": [
    "# Adding & Scalar-multiplying Vectors"
   ]
  },
  {
   "cell_type": "markdown",
   "id": "a10fda7e-d932-42a5-92a4-18b10dd9ba1c",
   "metadata": {},
   "source": [
    "    How to add and subtract vectors\n",
    "    How to multiply vectors by scalars (and what a scalar is)"
   ]
  },
  {
   "cell_type": "code",
   "execution_count": 12,
   "id": "6585c46c-970a-484d-9b12-f545187bb925",
   "metadata": {
    "tags": []
   },
   "outputs": [],
   "source": [
    "col_vec1 = np.array([[1],[0],[4],[3]])\n",
    "col_vec2 = np.array([[2],[-3],[-2],[1]])\n",
    "col_eq = col_vec1 + col_vec2"
   ]
  },
  {
   "cell_type": "markdown",
   "id": "b59d4eac-0580-46a7-bc8c-a645eacbafdb",
   "metadata": {},
   "source": [
    "### Adding & Subtracting Vectors"
   ]
  },
  {
   "cell_type": "code",
   "execution_count": 20,
   "id": "6ae2ff38-fed6-4752-8fb0-7d6a3b25b43c",
   "metadata": {
    "tags": []
   },
   "outputs": [
    {
     "data": {
      "text/latex": [
       "$\\displaystyle \\left[\\begin{matrix}1\\\\0\\\\4\\\\3\\end{matrix}\\right]+\\left[\\begin{matrix}2\\\\-3\\\\-2\\\\1\\end{matrix}\\right]=\\left[\\begin{matrix}3\\\\-3\\\\2\\\\4\\end{matrix}\\right]$"
      ],
      "text/plain": [
       "<IPython.core.display.Math object>"
      ]
     },
     "metadata": {},
     "output_type": "display_data"
    }
   ],
   "source": [
    "display(Math( sym.latex(sym.sympify(col_vec1)) + '+' + sym.latex(sym.sympify(col_vec2)) + '=' + sym.latex(sym.sympify(col_eq)) )) "
   ]
  },
  {
   "cell_type": "markdown",
   "id": "4a1231ac-6ccd-4316-a072-5de979e2b9f1",
   "metadata": {},
   "source": [
    "### Vector-scalar Multiplication"
   ]
  },
  {
   "cell_type": "markdown",
   "id": "1bfdd7a6-7043-4275-b83e-9bdc75483910",
   "metadata": {},
   "source": [
    "Scalar = Single Number"
   ]
  },
  {
   "cell_type": "markdown",
   "id": "67ba7e45-9321-4664-b22e-6ddd97411c0e",
   "metadata": {},
   "source": [
    "# $ \\lambda $v  "
   ]
  },
  {
   "cell_type": "code",
   "execution_count": 41,
   "id": "ce4831c5-0c2c-454b-86d9-2cb0bb5f367c",
   "metadata": {
    "tags": []
   },
   "outputs": [],
   "source": [
    "col_vec3 = np.array([[-1],[0],[1]])\n",
    "col_vec4 = np.array([[-7],[0],[7]])"
   ]
  },
  {
   "cell_type": "code",
   "execution_count": 51,
   "id": "9f4707af-4dd1-426a-8882-45b387c139df",
   "metadata": {
    "tags": []
   },
   "outputs": [
    {
     "data": {
      "text/latex": [
       "$\\displaystyle \\lambda \\text{v} \\Rightarrow \\space 7\\left[\\begin{matrix}-1\\\\0\\\\1\\end{matrix}\\right]\\space = \\space\\left[\\begin{matrix}-7\\\\0\\\\7\\end{matrix}\\right]$"
      ],
      "text/plain": [
       "<IPython.core.display.Math object>"
      ]
     },
     "metadata": {},
     "output_type": "display_data"
    }
   ],
   "source": [
    "display(Math( '\\\\lambda \\\\text{v} \\\\Rightarrow \\\\space 7' + sym.latex(sym.sympify(col_vec3)) + '\\\\space = \\\\space' + sym.latex(sym.sympify(col_vec4)) )) "
   ]
  },
  {
   "cell_type": "code",
   "execution_count": 65,
   "id": "f594ae16-0e22-43f5-a7e0-18209c029e40",
   "metadata": {
    "tags": []
   },
   "outputs": [
    {
     "data": {
      "image/png": "[encoded data removed]",
      "text/plain": [
       "<Figure size 640x480 with 1 Axes>"
      ]
     },
     "metadata": {},
     "output_type": "display_data"
    }
   ],
   "source": [
    "v = np.array([.5,1])\n",
    "s = [1,-.5,2,.5]\n",
    "\n",
    "for si in s:\n",
    "    sv = si*v\n",
    "    plt.plot([0,sv[0]],[0,sv[1]],'o-',linewidth=3,label='$\\lambda=%g$'%si)\n",
    "    \n",
    "\n",
    "plt.axis('square')\n",
    "plt.axis([-3,3,-3,3])\n",
    "plt.grid()\n",
    "plt.legend()   \n",
    "plt.show()"
   ]
  },
  {
   "cell_type": "markdown",
   "id": "d571a749-3706-4c77-bf25-66631cc5dd04",
   "metadata": {},
   "source": [
    "### Adding & Subtracting Vectors\n",
    "(Methods)"
   ]
  },
  {
   "cell_type": "code",
   "execution_count": 69,
   "id": "0207caff-2d1b-491c-bdd6-36aff8dcf655",
   "metadata": {
    "tags": []
   },
   "outputs": [
    {
     "name": "stdout",
     "output_type": "stream",
     "text": [
      "[0 3] [0 3] [0. 3.]\n"
     ]
    }
   ],
   "source": [
    "v1 = np.array([-1,2])\n",
    "v2 = np.array([1,1])\n",
    "\n",
    "v3a = v1+v2\n",
    "v3b = np.add(v1,v2)\n",
    "v3c = np.zeros(2)\n",
    "\n",
    "for i in range(0,2):\n",
    "    v3c[i] = v1[i]+v2[i]\n",
    "    \n",
    "print(v3a,v3b,v3c)"
   ]
  },
  {
   "cell_type": "markdown",
   "id": "070a4842-1e86-4d95-97f3-721c63e75bab",
   "metadata": {},
   "source": [
    "### Exercise"
   ]
  },
  {
   "cell_type": "code",
   "execution_count": 87,
   "id": "a1918b39-c190-4c99-93df-36cd29a726d3",
   "metadata": {
    "tags": []
   },
   "outputs": [
    {
     "name": "stdout",
     "output_type": "stream",
     "text": [
      "[0 3]\n"
     ]
    }
   ],
   "source": [
    "v1 = np.array([-1,2])\n",
    "v2 = np.array([1,1])\n",
    "v3 = v1+v2\n",
    "print(v3)"
   ]
  },
  {
   "cell_type": "markdown",
   "id": "6bab28cc-d79e-4100-9748-c47f840246e6",
   "metadata": {},
   "source": [
    "### Vector Addition: Geometry"
   ]
  },
  {
   "cell_type": "code",
   "execution_count": 156,
   "id": "c523a033-38b4-4b1c-b12d-9c35c50320cd",
   "metadata": {
    "tags": []
   },
   "outputs": [
    {
     "data": {
      "text/latex": [
       "$\\displaystyle \\left[\\begin{matrix}-1 & 2\\end{matrix}\\right] + \\left[\\begin{matrix}1 & 1\\end{matrix}\\right] = \\left[\\begin{matrix}0 & 3\\end{matrix}\\right]$"
      ],
      "text/plain": [
       "<IPython.core.display.Math object>"
      ]
     },
     "metadata": {},
     "output_type": "display_data"
    },
    {
     "data": {
      "image/png": "[encoded data removed]",
      "text/plain": [
       "<Figure size 640x480 with 1 Axes>"
      ]
     },
     "metadata": {},
     "output_type": "display_data"
    }
   ],
   "source": [
    "plt.plot([0,v1[0]],[0,v1[1]],linewidth=3,label='$v_1$')\n",
    "plt.plot([0,v2[0]]+v1[0],[0,v2[1]]+v1[1],linewidth=3,label='$v_2$') # standard position shift\n",
    "plt.plot([0,v3[0]],[0,v3[1]],'g',linewidth=3,label='$v_1+v_2$')\n",
    "\n",
    "s1 = sym.latex(sym.sympify(v1))\n",
    "s2 = sym.latex(sym.sympify(v2))\n",
    "s3 = sym.latex(sym.sympify(v3))\n",
    "\n",
    "display(Math('%s + %s = %s' %(s1,s2,s3)))\n",
    "\n",
    "plt.axis('square')\n",
    "plt.axis([-2,2,-2,4])\n",
    "plt.grid()\n",
    "plt.legend()\n",
    "plt.show()"
   ]
  }
 ],
 "metadata": {
  "kernelspec": {
   "display_name": "Python 3 (ipykernel)",
   "language": "python",
   "name": "python3"
  },
  "language_info": {
   "codemirror_mode": {
    "name": "ipython",
    "version": 3
   },
   "file_extension": ".py",
   "mimetype": "text/x-python",
   "name": "python",
   "nbconvert_exporter": "python",
   "pygments_lexer": "ipython3",
   "version": "3.11.5"
  }
 },
 "nbformat": 4,
 "nbformat_minor": 5
}
