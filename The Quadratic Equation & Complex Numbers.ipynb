{
 "cells": [
  {
   "cell_type": "markdown",
   "id": "04de724f-b44f-426c-a478-1082d29adfaf",
   "metadata": {},
   "source": [
    "# The Quadratic Equation"
   ]
  },
  {
   "cell_type": "code",
   "execution_count": 4,
   "id": "1937fcc8-e399-4165-9044-3a975e5f8aac",
   "metadata": {
    "tags": []
   },
   "outputs": [],
   "source": [
    "import sympy as sym\n",
    "import numpy as np\n",
    "import scipy as sp\n",
    "import matplotlib.pyplot as plt\n",
    "from IPython.display import Math,display"
   ]
  },
  {
   "cell_type": "markdown",
   "id": "231e4c3c-201e-4931-93e2-83ebee723782",
   "metadata": {},
   "source": [
    "### Quadratic Equation - Polynomial "
   ]
  },
  {
   "cell_type": "code",
   "execution_count": 4,
   "id": "ba599be1-a77d-4085-b43b-2e00af804401",
   "metadata": {
    "tags": []
   },
   "outputs": [
    {
     "data": {
      "text/latex": [
       "$\\displaystyle ax^2 + bx + c = 0$"
      ],
      "text/plain": [
       "<IPython.core.display.Math object>"
      ]
     },
     "metadata": {},
     "output_type": "display_data"
    }
   ],
   "source": [
    "display(Math('ax^2 + bx + c = 0'))"
   ]
  },
  {
   "cell_type": "markdown",
   "id": "c7789bc1-5fb0-4f49-b2bd-549f7d57aa51",
   "metadata": {},
   "source": [
    "Equation to find the 2 solutions for x as a degree 2 polynomial"
   ]
  },
  {
   "cell_type": "code",
   "execution_count": 8,
   "id": "7202ca08-a1ef-4660-9570-c106b2e4b4f4",
   "metadata": {
    "tags": []
   },
   "outputs": [
    {
     "data": {
      "text/latex": [
       "$\\displaystyle x = \\frac{-b  \\pm \\sqrt{b^2-4ac} }{2a}$"
      ],
      "text/plain": [
       "<IPython.core.display.Math object>"
      ]
     },
     "metadata": {},
     "output_type": "display_data"
    }
   ],
   "source": [
    "display(Math('x = \\\\frac{-b  \\\\pm \\\\sqrt{b^2-4ac} }{2a}'))"
   ]
  },
  {
   "cell_type": "code",
   "execution_count": 17,
   "id": "52aaf43e-7a8a-45f6-9b52-3a716090709c",
   "metadata": {
    "tags": []
   },
   "outputs": [
    {
     "name": "stdout",
     "output_type": "stream",
     "text": [
      "-1.0 -2.5\n"
     ]
    }
   ],
   "source": [
    "# set coefficients\n",
    "a = 2\n",
    "b = 7\n",
    "c = 5\n",
    "\n",
    "# implement equation\n",
    "quad_eq_P = (-b+np.lib.scimath.sqrt(b**2-4*a*c)) / (2*a)\n",
    "quad_eq_N = (-b-np.lib.scimath.sqrt(b**2-4*a*c)) / (2*a)\n",
    "\n",
    "# print results\n",
    "print(quad_eq_P,quad_eq_N)"
   ]
  },
  {
   "cell_type": "markdown",
   "id": "bb28f1cf-0acb-4859-9ba6-2d2c2983a0da",
   "metadata": {},
   "source": [
    "nan = not a number"
   ]
  },
  {
   "cell_type": "markdown",
   "id": "a081d44b-51f3-4e5e-a147-c4f64ce4643c",
   "metadata": {},
   "source": [
    "imaginary = i,j"
   ]
  },
  {
   "cell_type": "code",
   "execution_count": 19,
   "id": "f8446f7a-b1fd-46b4-a121-8270199729d7",
   "metadata": {
    "tags": []
   },
   "outputs": [
    {
     "name": "stdout",
     "output_type": "stream",
     "text": [
      "(-1.1666666666666665+0.5527707983925666j) (-1.1666666666666665-0.5527707983925666j)\n"
     ]
    }
   ],
   "source": [
    "# set coefficients\n",
    "a = 3\n",
    "b = 7\n",
    "c = 5\n",
    "\n",
    "# implement equation\n",
    "quad_eq_P = (-b+np.lib.scimath.sqrt(b**2-4*a*c)) / (2*a)\n",
    "quad_eq_N = (-b-np.lib.scimath.sqrt(b**2-4*a*c)) / (2*a)\n",
    "\n",
    "# print results\n",
    "print(quad_eq_P,quad_eq_N)"
   ]
  },
  {
   "cell_type": "code",
   "execution_count": 334,
   "id": "c8f6b6ea-cdee-467b-8fa1-b55af3196137",
   "metadata": {
    "tags": []
   },
   "outputs": [],
   "source": [
    "def quad_eq(a,b,c):\n",
    "    \n",
    "    # initialize variable for 2 element vector\n",
    "    out = np.zeros(2)\n",
    "    \n",
    "    # compute complex numbers\n",
    "    out[0] = (-b+np.lib.scimath.sqrt(b**2-4*a*c)) / (2*a)\n",
    "    out[1] = (-b-np.lib.scimath.sqrt(b**2-4*a*c)) / (2*a)\n",
    "    \n",
    "    # return result\n",
    "    return out"
   ]
  },
  {
   "cell_type": "code",
   "execution_count": 44,
   "id": "4b94be88-30f9-438c-9e6d-0df37c8e874a",
   "metadata": {
    "tags": []
   },
   "outputs": [
    {
     "name": "stdout",
     "output_type": "stream",
     "text": [
      "[-1.  -2.5]\n"
     ]
    }
   ],
   "source": [
    "quad_eq(2,7,5)"
   ]
  },
  {
   "cell_type": "markdown",
   "id": "b119cf73-89a6-4283-bcaf-774d02256da3",
   "metadata": {},
   "source": [
    "### Exercise"
   ]
  },
  {
   "cell_type": "markdown",
   "id": "17a26c40-3ee6-4dc6-9be4-a6b2d3b11d76",
   "metadata": {},
   "source": [
    "### My Implementation Attempt"
   ]
  },
  {
   "cell_type": "code",
   "execution_count": 51,
   "id": "517ce4af-a09a-4cc6-bf88-cb240e321b21",
   "metadata": {
    "collapsed": true,
    "jupyter": {
     "outputs_hidden": true
    },
    "tags": []
   },
   "outputs": [
    {
     "ename": "TypeError",
     "evalue": "'int' object is not iterable",
     "output_type": "error",
     "traceback": [
      "\u001b[1;31m---------------------------------------------------------------------------\u001b[0m",
      "\u001b[1;31mTypeError\u001b[0m                                 Traceback (most recent call last)",
      "Cell \u001b[1;32mIn[51], line 7\u001b[0m\n\u001b[0;32m      4\u001b[0m c \u001b[38;5;241m=\u001b[39m np\u001b[38;5;241m.\u001b[39marange(\u001b[38;5;241m-\u001b[39m\u001b[38;5;241m2\u001b[39m,\u001b[38;5;241m10\u001b[39m)\n\u001b[0;32m      6\u001b[0m \u001b[38;5;66;03m# initialize for-loop\u001b[39;00m\n\u001b[1;32m----> 7\u001b[0m \u001b[38;5;28;01mfor\u001b[39;00m i \u001b[38;5;129;01min\u001b[39;00m \u001b[38;5;28mlen\u001b[39m(b):\n\u001b[0;32m      8\u001b[0m     \u001b[38;5;28;01mfor\u001b[39;00m j \u001b[38;5;129;01min\u001b[39;00m \u001b[38;5;28mlen\u001b[39m(c):\n\u001b[0;32m      9\u001b[0m         \n\u001b[0;32m     10\u001b[0m         \u001b[38;5;66;03m# implement quadratic equation\u001b[39;00m\n\u001b[0;32m     11\u001b[0m         quad_eq_P \u001b[38;5;241m=\u001b[39m (\u001b[38;5;241m-\u001b[39mb\u001b[38;5;241m+\u001b[39mnp\u001b[38;5;241m.\u001b[39mlib\u001b[38;5;241m.\u001b[39mscimath\u001b[38;5;241m.\u001b[39msqrt(b[i]\u001b[38;5;241m*\u001b[39m\u001b[38;5;241m*\u001b[39m\u001b[38;5;241m2\u001b[39m\u001b[38;5;241m-\u001b[39m\u001b[38;5;241m4\u001b[39m\u001b[38;5;241m*\u001b[39ma\u001b[38;5;241m*\u001b[39mc[i])) \u001b[38;5;241m/\u001b[39m (\u001b[38;5;241m2\u001b[39m\u001b[38;5;241m*\u001b[39ma)\n",
      "\u001b[1;31mTypeError\u001b[0m: 'int' object is not iterable"
     ]
    }
   ],
   "source": [
    "# set coefficients \n",
    "a = 1\n",
    "b = np.arange(-5,5)\n",
    "c = np.arange(-2,10)\n",
    "\n",
    "# initialize for-loop\n",
    "for i in len(b):\n",
    "    for j in len(c):\n",
    "        \n",
    "        # implement quadratic equation\n",
    "        quad_eq_P = (-b+np.lib.scimath.sqrt(b[i]**2-4*a*c[i])) / (2*a)\n",
    "        # plot the outcome\n",
    "        plt.plot(quad_eq_P)\n",
    "        \n",
    "        \n",
    "# show the plot\n",
    "ax.xlabel('c')\n",
    "ax.ylabel('b')\n",
    "plt.imshow()\n",
    "plt.show()"
   ]
  },
  {
   "cell_type": "markdown",
   "id": "822b2a82-b087-4e0d-9d22-d30d611b5d9b",
   "metadata": {},
   "source": [
    "### Example Implementation"
   ]
  },
  {
   "cell_type": "code",
   "execution_count": 340,
   "id": "18ff0c42-3951-48cc-8dc2-3290c0a55b30",
   "metadata": {
    "tags": []
   },
   "outputs": [
    {
     "name": "stderr",
     "output_type": "stream",
     "text": [
      "C:\\Users\\Futur\\AppData\\Local\\Temp\\ipykernel_22092\\1082060696.py:7: ComplexWarning: Casting complex values to real discards the imaginary part\n",
      "  out[0] = (-b+np.lib.scimath.sqrt(b**2-4*a*c)) / (2*a)\n",
      "C:\\Users\\Futur\\AppData\\Local\\Temp\\ipykernel_22092\\1082060696.py:8: ComplexWarning: Casting complex values to real discards the imaginary part\n",
      "  out[1] = (-b-np.lib.scimath.sqrt(b**2-4*a*c)) / (2*a)\n"
     ]
    },
    {
     "data": {
      "image/png": "[encoded data removed]",
      "text/plain": [
       "<Figure size 640x480 with 2 Axes>"
      ]
     },
     "metadata": {},
     "output_type": "display_data"
    }
   ],
   "source": [
    "# set coefficients\n",
    "a = 1\n",
    "b = range(-5,6)\n",
    "c = range(-2,11)\n",
    "\n",
    "# initialize matrix\n",
    "M = np.zeros((len(b),len(c)))\n",
    "\n",
    "# initialize double for-loop\n",
    "for bi in range(0,len(b)):\n",
    "    for ci in range(0,len(c)):\n",
    "        # implement quadratic equation with func\n",
    "        M[bi,ci] = quad_eq(a,b[bi],c[ci])[0]\n",
    "        \n",
    "# show the plot       \n",
    "plt.imshow(np.real(M),extent=[ c[0],c[-1],b[0],b[-1] ])\n",
    "plt.xlabel('c')\n",
    "plt.ylabel('b')\n",
    "plt.title('a='+str(a))\n",
    "plt.colorbar()\n",
    "plt.show()"
   ]
  },
  {
   "cell_type": "markdown",
   "id": "9a1101df-32bf-4d96-bc62-d16ea319f53e",
   "metadata": {},
   "source": [
    "------"
   ]
  },
  {
   "cell_type": "markdown",
   "id": "2f615fa0-b768-4be5-8ed8-da25b9dd568b",
   "metadata": {},
   "source": [
    "# Complex Numbers\n",
    "* Addition & Subtraction"
   ]
  },
  {
   "cell_type": "markdown",
   "id": "a9b92327-6d75-47da-ae12-b852ca1b5d30",
   "metadata": {},
   "source": [
    "### The imaginary operator"
   ]
  },
  {
   "cell_type": "code",
   "execution_count": 23,
   "id": "ad34a7b2-b791-4320-9de7-af596cf9db51",
   "metadata": {},
   "outputs": [
    {
     "data": {
      "text/latex": [
       "$\\displaystyle x^2 + 1 = 0$"
      ],
      "text/plain": [
       "<IPython.core.display.Math object>"
      ]
     },
     "metadata": {},
     "output_type": "display_data"
    },
    {
     "data": {
      "text/latex": [
       "$\\displaystyle \\quad x^2 = -1$"
      ],
      "text/plain": [
       "<IPython.core.display.Math object>"
      ]
     },
     "metadata": {},
     "output_type": "display_data"
    },
    {
     "data": {
      "text/latex": [
       "$\\displaystyle \\quad \\quad x = \\pm \\text{ } \\sqrt{-1}$"
      ],
      "text/plain": [
       "<IPython.core.display.Math object>"
      ]
     },
     "metadata": {},
     "output_type": "display_data"
    },
    {
     "data": {
      "text/latex": [
       "$\\displaystyle \\quad \\quad x = \\pm \\text{ } i$"
      ],
      "text/plain": [
       "<IPython.core.display.Math object>"
      ]
     },
     "metadata": {},
     "output_type": "display_data"
    }
   ],
   "source": [
    "display(Math('x^2 + 1 = 0'))\n",
    "display(Math('\\\\quad x^2 = -1'))\n",
    "display(Math('\\\\quad \\\\quad x = \\\\pm \\\\text{ } \\\\sqrt{-1}'))\n",
    "display(Math('\\\\quad \\\\quad x = \\\\pm \\\\text{ } i'))"
   ]
  },
  {
   "cell_type": "markdown",
   "id": "f0b33a4f-a416-498a-9fae-aba851368732",
   "metadata": {},
   "source": [
    "### Terminology"
   ]
  },
  {
   "cell_type": "markdown",
   "id": "d414f041-1d51-4427-baa7-27e5683da9fa",
   "metadata": {},
   "source": [
    "z = a bi\n",
    "\n",
    "* z: Complex Number \n",
    "* a: Real Part \n",
    "* b: Imaginary Part\n",
    "* i: Imaginary Operator\n",
    "\n",
    "w = c di"
   ]
  },
  {
   "cell_type": "code",
   "execution_count": 38,
   "id": "ddab8a7a-e6e3-4931-bb9a-fbf06eacf874",
   "metadata": {
    "tags": []
   },
   "outputs": [
    {
     "data": {
      "text/latex": [
       "$\\displaystyle z+w=(a+c) \\text{ } (b+d)i$"
      ],
      "text/plain": [
       "<IPython.core.display.Math object>"
      ]
     },
     "metadata": {},
     "output_type": "display_data"
    },
    {
     "data": {
      "text/latex": [
       "$\\displaystyle z-w=(a-c) \\text{ } (b-d)i$"
      ],
      "text/plain": [
       "<IPython.core.display.Math object>"
      ]
     },
     "metadata": {},
     "output_type": "display_data"
    }
   ],
   "source": [
    "display(Math('z+w=(a+c) \\\\text{ } (b+d)i'))\n",
    "display(Math('z-w=(a-c) \\\\text{ } (b-d)i'))"
   ]
  },
  {
   "cell_type": "markdown",
   "id": "8c06d099-6150-4a6c-95c6-58a182aa2d73",
   "metadata": {},
   "source": [
    "#### Imaginary Operator"
   ]
  },
  {
   "cell_type": "code",
   "execution_count": 46,
   "id": "04472790-387d-4a7a-b68d-5a173d8a195a",
   "metadata": {
    "tags": []
   },
   "outputs": [
    {
     "name": "stdout",
     "output_type": "stream",
     "text": [
      "1j\n",
      "1j\n"
     ]
    }
   ],
   "source": [
    "print(1j)\n",
    "print(np.sqrt(-1,dtype='complex'))"
   ]
  },
  {
   "cell_type": "code",
   "execution_count": 48,
   "id": "9e7180d2-bac5-4333-aafb-1893d0f8f6d5",
   "metadata": {
    "tags": []
   },
   "outputs": [
    {
     "name": "stdout",
     "output_type": "stream",
     "text": [
      "I\n"
     ]
    }
   ],
   "source": [
    "print(sym.I)"
   ]
  },
  {
   "cell_type": "code",
   "execution_count": 58,
   "id": "8ce4f712-442a-48e6-b43f-643f4bdcf204",
   "metadata": {
    "tags": []
   },
   "outputs": [
    {
     "name": "stdout",
     "output_type": "stream",
     "text": [
      "(4-5j)\n",
      "(4-5j)\n",
      "<class 'complex'>\n"
     ]
    }
   ],
   "source": [
    "rp = 4 \n",
    "ip = -5\n",
    "cn1 = complex(rp,ip)\n",
    "cn2 = rp + 1j*ip\n",
    "print(cn1)\n",
    "print(cn2)\n",
    "print(type(cn1))"
   ]
  },
  {
   "cell_type": "code",
   "execution_count": 72,
   "id": "feb00eaa-63d9-492a-b6e0-e3536870cd3b",
   "metadata": {
    "tags": []
   },
   "outputs": [
    {
     "name": "stdout",
     "output_type": "stream",
     "text": [
      "168.0\n",
      "240\n"
     ]
    }
   ],
   "source": [
    "items = 70+65+65+40\n",
    "p = items*.3\n",
    "result = items - p\n",
    "print(result)\n",
    "print(items)"
   ]
  },
  {
   "cell_type": "code",
   "execution_count": 68,
   "id": "65cca02f-b2d8-44a0-a5ec-0090b0b9ede6",
   "metadata": {
    "tags": []
   },
   "outputs": [
    {
     "name": "stdout",
     "output_type": "stream",
     "text": [
      "(7+7j)\n",
      "(1+3j)\n"
     ]
    }
   ],
   "source": [
    "z1 = complex(4,5)\n",
    "z2 = complex(3,2)\n",
    "\n",
    "print(z1+z2)\n",
    "print(z1-z2)"
   ]
  },
  {
   "cell_type": "code",
   "execution_count": 76,
   "id": "28756fe4-b782-490b-9c58-3d346d1aea29",
   "metadata": {
    "tags": []
   },
   "outputs": [
    {
     "name": "stdout",
     "output_type": "stream",
     "text": [
      "4.0\n",
      "5.0\n"
     ]
    }
   ],
   "source": [
    "print(np.real(z1))\n",
    "print(np.imag(z1))"
   ]
  },
  {
   "cell_type": "markdown",
   "id": "0e232553-408e-4aa0-847d-f5edf8b68305",
   "metadata": {},
   "source": [
    "#### Exercise\n",
    "(Correct)"
   ]
  },
  {
   "cell_type": "code",
   "execution_count": 91,
   "id": "5e630a7a-8a1b-44c8-b570-d52c4b834c38",
   "metadata": {
    "tags": []
   },
   "outputs": [
    {
     "name": "stdout",
     "output_type": "stream",
     "text": [
      "True\n"
     ]
    }
   ],
   "source": [
    "w = complex(2,4)\n",
    "z = complex(5,6)\n",
    "wz = complex( np.real(w)+np.real(z),np.imag(w)+np.imag(z) )\n",
    "print(w+z==wz)"
   ]
  },
  {
   "cell_type": "markdown",
   "id": "aaabc49c-b6fa-4613-a50d-a856ec534c10",
   "metadata": {},
   "source": [
    "## Conjugate & Multiplication"
   ]
  },
  {
   "cell_type": "markdown",
   "id": "53e6e2f5-6795-4b57-867c-3706e1c1e596",
   "metadata": {},
   "source": [
    "    z = a bi\n",
    "    w = c di"
   ]
  },
  {
   "cell_type": "code",
   "execution_count": 96,
   "id": "9a7faec5-633e-4eac-afea-dd48b2cff47f",
   "metadata": {
    "tags": []
   },
   "outputs": [
    {
     "data": {
      "text/latex": [
       "$\\displaystyle z \\times w = (a \\text{ }bi)\\times(c \\text{ }di)$"
      ],
      "text/plain": [
       "<IPython.core.display.Math object>"
      ]
     },
     "execution_count": 96,
     "metadata": {},
     "output_type": "execute_result"
    }
   ],
   "source": [
    "Math('z \\\\times w = (a \\\\text{ }bi)\\\\times(c \\\\text{ }di)')"
   ]
  },
  {
   "cell_type": "code",
   "execution_count": 100,
   "id": "9bfc1068-5aa5-4bae-984e-3d5c363a1483",
   "metadata": {
    "tags": []
   },
   "outputs": [
    {
     "data": {
      "text/latex": [
       "$\\displaystyle ac+adi+cbi+bdi^2$"
      ],
      "text/plain": [
       "<IPython.core.display.Math object>"
      ]
     },
     "execution_count": 100,
     "metadata": {},
     "output_type": "execute_result"
    }
   ],
   "source": [
    "Math('ac+adi+cbi+bdi^2')"
   ]
  },
  {
   "cell_type": "markdown",
   "id": "19642d84-1e3f-44fe-b3e7-c4cb2126f1e0",
   "metadata": {},
   "source": [
    "    Example 1\n",
    "    Complex Number: a + bi\n",
    "    Complex Conjugate: a - bi"
   ]
  },
  {
   "cell_type": "markdown",
   "id": "69df4bea-86cb-4a4f-81c0-30db24a3eaf8",
   "metadata": {},
   "source": [
    "    Example 2\n",
    "    Complex Number: a - bi\n",
    "    Complex Conjugate: a + bi"
   ]
  },
  {
   "cell_type": "code",
   "execution_count": 138,
   "id": "1f87bcd4-8b64-4655-b557-ed7626b50907",
   "metadata": {
    "tags": []
   },
   "outputs": [
    {
     "data": {
      "text/latex": [
       "$\\displaystyle z \\times z^* \\space = (a \\space bi)\\times(a \\space -bi)$"
      ],
      "text/plain": [
       "<IPython.core.display.Math object>"
      ]
     },
     "metadata": {},
     "output_type": "display_data"
    },
    {
     "data": {
      "text/latex": [
       "$\\displaystyle \\quad\\quad = a^2 - abi + abi - (bi)^2$"
      ],
      "text/plain": [
       "<IPython.core.display.Math object>"
      ]
     },
     "metadata": {},
     "output_type": "display_data"
    },
    {
     "data": {
      "text/latex": [
       "$\\displaystyle \\quad\\quad = a^2+b^2$"
      ],
      "text/plain": [
       "<IPython.core.display.Math object>"
      ]
     },
     "metadata": {},
     "output_type": "display_data"
    }
   ],
   "source": [
    "display(Math('z \\\\times z^* \\\\space = (a \\\\space bi)\\\\times(a \\\\space -bi)'))\n",
    "display(Math('\\\\quad\\\\quad = a^2 - abi + abi - (bi)^2'))\n",
    "display(Math('\\\\quad\\\\quad = a^2+b^2'))"
   ]
  },
  {
   "cell_type": "code",
   "execution_count": 144,
   "id": "91e37b33-e342-4f8d-9ea0-3dbf84d4b6a0",
   "metadata": {
    "tags": []
   },
   "outputs": [
    {
     "name": "stdout",
     "output_type": "stream",
     "text": [
      "(34+22j)\n",
      "34.0 + 22.0*I\n"
     ]
    }
   ],
   "source": [
    "z1 = complex(4,5)\n",
    "z2 = complex(6,-2)\n",
    "\n",
    "w = z1*z2\n",
    "print(w)\n",
    "print(sym.sympify(w))"
   ]
  },
  {
   "cell_type": "code",
   "execution_count": 148,
   "id": "1848acd8-3084-4dc2-8f29-c492d349f20a",
   "metadata": {
    "tags": []
   },
   "outputs": [
    {
     "name": "stdout",
     "output_type": "stream",
     "text": [
      "(4-5j)\n",
      "(6+2j)\n"
     ]
    }
   ],
   "source": [
    "print(np.conj(z1))\n",
    "print(np.conj(z2))"
   ]
  },
  {
   "cell_type": "markdown",
   "id": "5022aa65-f07e-445c-a4ed-db3debbb618d",
   "metadata": {},
   "source": [
    "#### Exercise"
   ]
  },
  {
   "cell_type": "code",
   "execution_count": 156,
   "id": "4869087b-a8f2-47b6-974f-24c8a7cb83ca",
   "metadata": {
    "collapsed": true,
    "jupyter": {
     "outputs_hidden": true
    },
    "tags": []
   },
   "outputs": [
    {
     "ename": "TypeError",
     "evalue": "Cannot convert expression to float",
     "output_type": "error",
     "traceback": [
      "\u001b[1;31m---------------------------------------------------------------------------\u001b[0m",
      "\u001b[1;31mTypeError\u001b[0m                                 Traceback (most recent call last)",
      "Cell \u001b[1;32mIn[156], line 3\u001b[0m\n\u001b[0;32m      1\u001b[0m \u001b[38;5;28;01mfrom\u001b[39;00m \u001b[38;5;21;01msympy\u001b[39;00m\u001b[38;5;21;01m.\u001b[39;00m\u001b[38;5;21;01mabc\u001b[39;00m \u001b[38;5;28;01mimport\u001b[39;00m a,b\n\u001b[1;32m----> 3\u001b[0m z1 \u001b[38;5;241m=\u001b[39m \u001b[38;5;28mcomplex\u001b[39m(a,b)\n\u001b[0;32m      4\u001b[0m w \u001b[38;5;241m=\u001b[39m z1\u001b[38;5;241m*\u001b[39mnp\u001b[38;5;241m.\u001b[39mconj(z1)\n\u001b[0;32m      5\u001b[0m display(w)\n",
      "File \u001b[1;32m~\\anaconda3\\Lib\\site-packages\\sympy\\core\\expr.py:356\u001b[0m, in \u001b[0;36mExpr.__complex__\u001b[1;34m(self)\u001b[0m\n\u001b[0;32m    354\u001b[0m result \u001b[38;5;241m=\u001b[39m \u001b[38;5;28mself\u001b[39m\u001b[38;5;241m.\u001b[39mevalf()\n\u001b[0;32m    355\u001b[0m re, im \u001b[38;5;241m=\u001b[39m result\u001b[38;5;241m.\u001b[39mas_real_imag()\n\u001b[1;32m--> 356\u001b[0m \u001b[38;5;28;01mreturn\u001b[39;00m \u001b[38;5;28mcomplex\u001b[39m(\u001b[38;5;28mfloat\u001b[39m(re), \u001b[38;5;28mfloat\u001b[39m(im))\n",
      "File \u001b[1;32m~\\anaconda3\\Lib\\site-packages\\sympy\\core\\expr.py:351\u001b[0m, in \u001b[0;36mExpr.__float__\u001b[1;34m(self)\u001b[0m\n\u001b[0;32m    349\u001b[0m \u001b[38;5;28;01mif\u001b[39;00m result\u001b[38;5;241m.\u001b[39mis_number \u001b[38;5;129;01mand\u001b[39;00m result\u001b[38;5;241m.\u001b[39mas_real_imag()[\u001b[38;5;241m1\u001b[39m]:\n\u001b[0;32m    350\u001b[0m     \u001b[38;5;28;01mraise\u001b[39;00m \u001b[38;5;167;01mTypeError\u001b[39;00m(\u001b[38;5;124m\"\u001b[39m\u001b[38;5;124mCannot convert complex to float\u001b[39m\u001b[38;5;124m\"\u001b[39m)\n\u001b[1;32m--> 351\u001b[0m \u001b[38;5;28;01mraise\u001b[39;00m \u001b[38;5;167;01mTypeError\u001b[39;00m(\u001b[38;5;124m\"\u001b[39m\u001b[38;5;124mCannot convert expression to float\u001b[39m\u001b[38;5;124m\"\u001b[39m)\n",
      "\u001b[1;31mTypeError\u001b[0m: Cannot convert expression to float"
     ]
    }
   ],
   "source": [
    "from sympy.abc import a,b\n",
    "\n",
    "z1 = complex(a,b)\n",
    "w = z1*np.conj(z1)\n",
    "display(w)"
   ]
  },
  {
   "cell_type": "markdown",
   "id": "698c4c58-c21a-48f0-ae0d-5d0905b39280",
   "metadata": {},
   "source": [
    "Example"
   ]
  },
  {
   "cell_type": "code",
   "execution_count": 166,
   "id": "4afee91a-4fb1-4014-be43-0d8037b80a78",
   "metadata": {
    "tags": []
   },
   "outputs": [],
   "source": [
    "a,b = sym.symbols('a,b',real=True)\n",
    "z = a + b*sym.I\n",
    "z2 = sym.conjugate(z)"
   ]
  },
  {
   "cell_type": "code",
   "execution_count": 172,
   "id": "0f1077d1-c73f-4947-8be8-ff2e74a7793e",
   "metadata": {
    "tags": []
   },
   "outputs": [
    {
     "data": {
      "text/latex": [
       "$\\displaystyle a^{2} + b^{2}$"
      ],
      "text/plain": [
       "a**2 + b**2"
      ]
     },
     "execution_count": 172,
     "metadata": {},
     "output_type": "execute_result"
    }
   ],
   "source": [
    "sym.simplify(z * z2)"
   ]
  },
  {
   "cell_type": "code",
   "execution_count": 176,
   "id": "37ce0d8e-226f-42d3-b255-0104d6669940",
   "metadata": {
    "tags": []
   },
   "outputs": [
    {
     "data": {
      "text/latex": [
       "$\\displaystyle z \\times z^* = a^{2} + b^{2}$"
      ],
      "text/plain": [
       "<IPython.core.display.Math object>"
      ]
     },
     "execution_count": 176,
     "metadata": {},
     "output_type": "execute_result"
    }
   ],
   "source": [
    "Math('z \\\\times z^* = %s' %(sym.latex(sym.simplify(z * z2))) )"
   ]
  },
  {
   "cell_type": "markdown",
   "id": "92976231-5cad-4224-85e2-016b57d86190",
   "metadata": {},
   "source": [
    "## Division of Complex Numbers"
   ]
  },
  {
   "cell_type": "code",
   "execution_count": 184,
   "id": "a3efb488-4e9b-4f45-9d62-d74a370bc8db",
   "metadata": {
    "tags": []
   },
   "outputs": [
    {
     "data": {
      "text/latex": [
       "$\\displaystyle \\frac{4+2i}{2-3i}=\\frac{(4+2i)(2+3i)}{(2-3i)(2+3i)}$"
      ],
      "text/plain": [
       "<IPython.core.display.Math object>"
      ]
     },
     "metadata": {},
     "output_type": "display_data"
    },
    {
     "data": {
      "text/latex": [
       "$\\displaystyle = \\frac{8+12i+4i-6}{2^2+3^2}$"
      ],
      "text/plain": [
       "<IPython.core.display.Math object>"
      ]
     },
     "metadata": {},
     "output_type": "display_data"
    },
    {
     "data": {
      "text/latex": [
       "$\\displaystyle = \\frac{2+16i}{13}$"
      ],
      "text/plain": [
       "<IPython.core.display.Math object>"
      ]
     },
     "metadata": {},
     "output_type": "display_data"
    }
   ],
   "source": [
    "display(Math('\\\\frac{4+2i}{2-3i}=\\\\frac{(4+2i)(2+3i)}{(2-3i)(2+3i)}'))\n",
    "display(Math('= \\\\frac{8+12i+4i-6}{2^2+3^2}'))\n",
    "display(Math('= \\\\frac{2+16i}{13}'))"
   ]
  },
  {
   "cell_type": "code",
   "execution_count": 186,
   "id": "4ac2b3b6-9470-4820-a3f0-b83dbad2ffef",
   "metadata": {
    "tags": []
   },
   "outputs": [
    {
     "data": {
      "text/latex": [
       "$\\displaystyle \\frac{z}{w}=\\frac{zw^*}{ww^*}$"
      ],
      "text/plain": [
       "<IPython.core.display.Math object>"
      ]
     },
     "metadata": {},
     "output_type": "display_data"
    }
   ],
   "source": [
    "display(Math('\\\\frac{z}{w}=\\\\frac{zw^*}{ww^*}'))"
   ]
  },
  {
   "cell_type": "code",
   "execution_count": 188,
   "id": "713fbf55-543c-40da-9daf-765f8b19f0a2",
   "metadata": {
    "tags": []
   },
   "outputs": [
    {
     "data": {
      "text/latex": [
       "$\\displaystyle \\frac{(4+2j)}{2} = (2+1j)$"
      ],
      "text/plain": [
       "<IPython.core.display.Math object>"
      ]
     },
     "metadata": {},
     "output_type": "display_data"
    }
   ],
   "source": [
    "z = complex(4,2)\n",
    "\n",
    "display(Math('\\\\frac{%s}{2} = %s' %(z,z/2)))"
   ]
  },
  {
   "cell_type": "code",
   "execution_count": 222,
   "id": "7ab55f32-fb2f-4667-92f9-365f6ed6c10f",
   "metadata": {
    "tags": []
   },
   "outputs": [
    {
     "data": {
      "text/latex": [
       "$\\displaystyle \\frac{(4+2j)}{(2-3j)} = \\frac{(4+2j)\\times(2+3j)}{(2-3j)\\times(2+3j)} = (0.15384615384615383+1.2307692307692308j)$"
      ],
      "text/plain": [
       "<IPython.core.display.Math object>"
      ]
     },
     "metadata": {},
     "output_type": "display_data"
    }
   ],
   "source": [
    "z1 = complex(4,2)\n",
    "z2 = complex(2,-3)\n",
    "\n",
    "display(Math('\\\\frac{%s}{%s} = \\\\frac{%s\\\\times%s}{%s\\\\times%s} = %s' \\\n",
    "             %(z1,z2,  \\\n",
    "               z1,np.conj(z2),z2,np.conj(z2), \\\n",
    "               z1/z2  \\\n",
    "              )))"
   ]
  },
  {
   "cell_type": "markdown",
   "id": "ced258ed-2bc3-49a1-a44e-eda16c4e7198",
   "metadata": {},
   "source": [
    "#### Exercise"
   ]
  },
  {
   "cell_type": "code",
   "execution_count": 242,
   "id": "8ad52c8e-4321-4291-bde2-8b765552f91d",
   "metadata": {
    "tags": []
   },
   "outputs": [
    {
     "name": "stdout",
     "output_type": "stream",
     "text": [
      "(-2434.7335640138413+2214.1245674740485j)\n"
     ]
    }
   ],
   "source": [
    "z = complex(4,2) \n",
    "w = complex(3,5)\n",
    "\n",
    "expr1 = (z-1)*(z*w+w) / w*z - w\n",
    "expr2 = (w-1)*(1-w) / -w**2*z - w**2 + 2*w*z + 2*w - z - 1\n",
    "\n",
    "print(expr1*expr2)"
   ]
  },
  {
   "cell_type": "code",
   "execution_count": 256,
   "id": "be51474a-c2f4-42da-8856-cce7a1cf7ddf",
   "metadata": {
    "tags": []
   },
   "outputs": [
    {
     "name": "stdout",
     "output_type": "stream",
     "text": [
      "(1+0j)\n"
     ]
    }
   ],
   "source": [
    "z = complex(4,2) \n",
    "w = complex(3,5)\n",
    "\n",
    "expr1a = (z-1)*(z*w+w) \n",
    "expr1b = w*z - w\n",
    "expr1c = expr1a / expr1b\n",
    "\n",
    "expr2a = (w-1)*(1-w) \n",
    "expr2b = -w**2*z - w**2 + 2*w*z + 2*w - z - 1\n",
    "expr2c = expr2a / expr2b\n",
    "\n",
    "solution = expr1c * expr2c\n",
    "\n",
    "print(solution)"
   ]
  },
  {
   "cell_type": "markdown",
   "id": "0800f5bf-b95c-47ff-851e-9b9eb63e8090",
   "metadata": {},
   "source": [
    "Example"
   ]
  },
  {
   "cell_type": "code",
   "execution_count": 244,
   "id": "7e2fd7cd-f66c-4983-b260-4d7f959264c6",
   "metadata": {
    "tags": []
   },
   "outputs": [
    {
     "name": "stdout",
     "output_type": "stream",
     "text": [
      "(1+0j)\n"
     ]
    }
   ],
   "source": [
    "z = complex(4,2)\n",
    "w = complex(3,5)\n",
    "\n",
    "left_n = (z-1)*(z*w+w)\n",
    "left_d = w*z - w\n",
    "left = left_n / left_d\n",
    "\n",
    "right_n = (w-1)*(1-w)\n",
    "right_d = -w**2*z - w**2 + 2*w*z + 2*w - z - 1\n",
    "right = right_n / right_d\n",
    "\n",
    "solution = left*right\n",
    "\n",
    "print(solution)"
   ]
  },
  {
   "cell_type": "markdown",
   "id": "86d36bef-e3f5-4c73-839f-839b4e88bc63",
   "metadata": {},
   "source": [
    "## Graphing Complex Numbers"
   ]
  },
  {
   "cell_type": "code",
   "execution_count": 308,
   "id": "ff603391-41da-454e-9f17-2be8201351ae",
   "metadata": {
    "tags": []
   },
   "outputs": [
    {
     "data": {
      "image/png": "[encoded data removed]",
      "text/plain": [
       "<Figure size 640x480 with 1 Axes>"
      ]
     },
     "metadata": {},
     "output_type": "display_data"
    }
   ],
   "source": [
    "z = complex(2,3)\n",
    "\n",
    "plt.grid()\n",
    "plt.plot(np.real(z),np.imag(z),'mo')\n",
    "plt.plot([0,np.real(z)],[0,np.imag(z)],'m')\n",
    "plt.plot([-4,4],[0,0],'k-')\n",
    "plt.plot([0,0],[-4,4],'k-')\n",
    "\n",
    "plt.xlabel('real')\n",
    "plt.ylabel('imaginary')\n",
    "\n",
    "plt.axis([-4,4,-4,4])\n",
    "plt.title('Complex Plane')\n",
    "plt.show()"
   ]
  },
  {
   "cell_type": "markdown",
   "id": "94a9bead-66f7-430d-8fd2-910853b4e152",
   "metadata": {},
   "source": [
    "#### Exercise"
   ]
  },
  {
   "cell_type": "code",
   "execution_count": 322,
   "id": "24cd1a6e-ca3c-4e6e-ad40-25bfe2e1d01d",
   "metadata": {
    "tags": []
   },
   "outputs": [
    {
     "data": {
      "image/png": "[encoded data removed]",
      "text/plain": [
       "<Figure size 640x480 with 1 Axes>"
      ]
     },
     "metadata": {},
     "output_type": "display_data"
    }
   ],
   "source": [
    "z1 = complex(-3,1)\n",
    "z2 = complex(-1,1)\n",
    "\n",
    "z3 = z1+z2\n",
    "\n",
    "plt.grid()\n",
    "\n",
    "plt.plot([-6,6],[0,0],'k-')\n",
    "plt.plot([0,0],[-6,6],'k-')\n",
    "\n",
    "plt.plot([0,np.real(z1)],[0,np.imag(z1)],label='z1')\n",
    "plt.plot([0,np.real(z2)],[0,np.imag(z2)],label='z2')\n",
    "plt.plot([0,np.real(z3)],[0,np.imag(z3)],label='z1+z2')\n",
    "\n",
    "plt.xlabel('real')\n",
    "plt.ylabel('imaginary')\n",
    "\n",
    "\n",
    "plt.axis('square')\n",
    "plt.axis([-6,6,-6,6])\n",
    "plt.title('Complex Plane')\n",
    "\n",
    "plt.legend()\n",
    "plt.show()"
   ]
  },
  {
   "cell_type": "code",
   "execution_count": 328,
   "id": "60022b96-e9d7-488a-ad64-cedb059039bf",
   "metadata": {
    "tags": []
   },
   "outputs": [
    {
     "data": {
      "image/png": "[encoded data removed]",
      "text/plain": [
       "<Figure size 640x480 with 1 Axes>"
      ]
     },
     "metadata": {},
     "output_type": "display_data"
    }
   ],
   "source": [
    "z3 = z1*z2\n",
    "\n",
    "plt.grid()\n",
    "\n",
    "plt.plot([-6,6],[0,0],'k-')\n",
    "plt.plot([0,0],[-6,6],'k-')\n",
    "\n",
    "plt.plot([0,np.real(z1)],[0,np.imag(z1)],label='z1')\n",
    "plt.plot([0,np.real(z2)],[0,np.imag(z2)],label='z2')\n",
    "plt.plot([0,np.real(z3)],[0,np.imag(z3)],label='z1 * z2')\n",
    "\n",
    "plt.xlabel('real')\n",
    "plt.ylabel('imaginary')\n",
    "\n",
    "\n",
    "plt.axis('square')\n",
    "plt.axis([-6,6,-6,6])\n",
    "plt.title('Complex Plane')\n",
    "\n",
    "plt.legend()\n",
    "plt.show()"
   ]
  },
  {
   "cell_type": "markdown",
   "id": "ddf471f8-b890-4fe9-99b0-2c526782445e",
   "metadata": {},
   "source": [
    "## Revisiting The Quadratic Equation With Complex Numbers"
   ]
  },
  {
   "cell_type": "code",
   "execution_count": 380,
   "id": "d91405c8-d8be-4ed8-8a64-5bb4a55a20b5",
   "metadata": {
    "tags": []
   },
   "outputs": [],
   "source": [
    "def quad_eq(a,b,c):\n",
    "    \n",
    "    # initialize variable for 2 element vector\n",
    "    out = np.zeros(2,dtype=complex)\n",
    "    \n",
    "    # compute complex numbers\n",
    "    out[0] = (-b-np.lib.scimath.sqrt(b**2-4*a*c)) / (2*a)\n",
    "    out[1] = (-b+np.lib.scimath.sqrt(b**2-4*a*c)) / (2*a)\n",
    "    \n",
    "    # return result\n",
    "    return out"
   ]
  },
  {
   "cell_type": "code",
   "execution_count": 382,
   "id": "fb759ce9-a952-48e5-b193-00fa2559043a",
   "metadata": {
    "tags": []
   },
   "outputs": [
    {
     "data": {
      "image/png": "[encoded data removed]",
      "text/plain": [
       "<Figure size 640x480 with 2 Axes>"
      ]
     },
     "metadata": {},
     "output_type": "display_data"
    }
   ],
   "source": [
    "# set coefficients\n",
    "a = 1\n",
    "b = range(-5,6)\n",
    "c = range(-2,11)\n",
    "\n",
    "# initialize matrix\n",
    "M = np.zeros((len(b),len(c)),dtype=complex)\n",
    "\n",
    "# initialize double for-loop\n",
    "for bi in range(0,len(b)):\n",
    "    for ci in range(0,len(c)):\n",
    "        # implement quadratic equation with func\n",
    "        M[bi,ci] = quad_eq(a,b[bi],c[ci])[0]\n",
    "        \n",
    "# show the plot       \n",
    "plt.imshow(np.real(M),extent=[ c[0],c[-1],b[0],b[-1] ])\n",
    "plt.xlabel('c')\n",
    "plt.ylabel('b')\n",
    "plt.title('a='+str(a))\n",
    "plt.colorbar()\n",
    "plt.show()"
   ]
  },
  {
   "cell_type": "code",
   "execution_count": 386,
   "id": "32da6170-e353-47e7-a4a9-a6df665ccaad",
   "metadata": {
    "tags": []
   },
   "outputs": [
    {
     "data": {
      "image/png": "[encoded data removed]",
      "text/plain": [
       "<Figure size 640x480 with 3 Axes>"
      ]
     },
     "metadata": {},
     "output_type": "display_data"
    }
   ],
   "source": [
    "# set coefficients\n",
    "a = 1\n",
    "b = range(-5,6)\n",
    "c = range(-2,11)\n",
    "\n",
    "# initialize matrix\n",
    "M = np.zeros((len(b),len(c)),dtype=complex)\n",
    "\n",
    "# initialize double for-loop\n",
    "for bi in range(0,len(b)):\n",
    "    for ci in range(0,len(c)):\n",
    "        # implement quadratic equation with func\n",
    "        M[bi,ci] = quad_eq(a,b[bi],c[ci])[0]\n",
    "        \n",
    "# show the plot     \n",
    "\n",
    "plt.subplot(1,3,1)\n",
    "plt.imshow(np.real(M),extent=[ c[0],c[-1],b[0],b[-1] ])\n",
    "# plt.axis('off')\n",
    "plt.title('real part')\n",
    "\n",
    "plt.subplot(1,3,2)\n",
    "plt.imshow(np.imag(M),extent=[ c[0],c[-1],b[0],b[-1] ])\n",
    "plt.axis('off')\n",
    "plt.title('imag part')\n",
    "\n",
    "plt.subplot(1,3,3)\n",
    "plt.imshow(np.absolute(M),extent=[ c[0],c[-1],b[0],b[-1] ])\n",
    "plt.axis('off')\n",
    "plt.title('magnitude')\n",
    "\n",
    "\n",
    "plt.show()"
   ]
  },
  {
   "cell_type": "markdown",
   "id": "04dd13d8-f2c8-4ebe-8aad-80a21680b1d3",
   "metadata": {},
   "source": [
    "## The Unit Circle"
   ]
  },
  {
   "cell_type": "code",
   "execution_count": null,
   "id": "f70dc2d1-bb40-427d-a225-2c97b43cf77b",
   "metadata": {},
   "outputs": [],
   "source": []
  }
 ],
 "metadata": {
  "kernelspec": {
   "display_name": "Python 3 (ipykernel)",
   "language": "python",
   "name": "python3"
  },
  "language_info": {
   "codemirror_mode": {
    "name": "ipython",
    "version": 3
   },
   "file_extension": ".py",
   "mimetype": "text/x-python",
   "name": "python",
   "nbconvert_exporter": "python",
   "pygments_lexer": "ipython3",
   "version": "3.11.5"
  }
 },
 "nbformat": 4,
 "nbformat_minor": 5
}
